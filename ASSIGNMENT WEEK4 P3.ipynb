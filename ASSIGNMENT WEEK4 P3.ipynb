{
 "cells": [
  {
   "cell_type": "markdown",
   "id": "c9fab36c",
   "metadata": {},
   "source": [
    "\n",
    "Q1. What is Abstraction in OOps? Explain with an example.\n"
   ]
  },
  {
   "cell_type": "code",
   "execution_count": null,
   "id": "7eda31c3",
   "metadata": {},
   "outputs": [],
   "source": [
    "Abstraction:- Abstract class in OOPs is used to make a skeleton or blueprint.\n",
    "that the means of, \n",
    "lets example If I write a code before execute firstly make a skeleton or make a outline for those code and for that we can use this Abstraction\n",
    "\n",
    "lets example in code:-----"
   ]
  },
  {
   "cell_type": "code",
   "execution_count": 15,
   "id": "7fc0d499",
   "metadata": {},
   "outputs": [],
   "source": [
    "import abc\n",
    "\n",
    "class pwskills:\n",
    "    \n",
    "    @abc.abstractmethod\n",
    "    def student_details(self):\n",
    "        pass\n",
    "    \n",
    "    @abc.abstractmethod\n",
    "    def student_assignment(self):\n",
    "        pass\n",
    "    @abc.abstractmethod\n",
    "    def student_marks(self):\n",
    "        pass\n",
    "\n",
    "    "
   ]
  },
  {
   "cell_type": "code",
   "execution_count": 16,
   "id": "0fb766fb",
   "metadata": {},
   "outputs": [],
   "source": [
    "class student_details(pwskills):\n",
    "    def student_details(self):\n",
    "        return \"this is a meth for taking students details\"\n",
    "\n",
    "    def student_marks(self):\n",
    "        return \"this is a meth for assign for a particular student\""
   ]
  },
  {
   "cell_type": "code",
   "execution_count": 17,
   "id": "c155f5fd",
   "metadata": {},
   "outputs": [],
   "source": [
    "class data_science_masters(pwskills):\n",
    "    \n",
    "    def student_details(self):\n",
    "        return \"this will return a student details for data science masters\"\n",
    "    def student_marks(self):\n",
    "        return \"this will give you a student marks details for data science student\""
   ]
  },
  {
   "cell_type": "code",
   "execution_count": 18,
   "id": "fd081370",
   "metadata": {},
   "outputs": [
    {
     "data": {
      "text/plain": [
       "'this will return a student details for data science masters'"
      ]
     },
     "execution_count": 18,
     "metadata": {},
     "output_type": "execute_result"
    }
   ],
   "source": [
    "dsm = data_science_masters()\n",
    "dsm.student_details()"
   ]
  },
  {
   "cell_type": "code",
   "execution_count": 19,
   "id": "1330e8c4",
   "metadata": {},
   "outputs": [
    {
     "data": {
      "text/plain": [
       "'this is a meth for taking students details'"
      ]
     },
     "execution_count": 19,
     "metadata": {},
     "output_type": "execute_result"
    }
   ],
   "source": [
    "sd = student_details()\n",
    "sd.student_details()"
   ]
  },
  {
   "cell_type": "code",
   "execution_count": null,
   "id": "2ebf0ae7",
   "metadata": {},
   "outputs": [],
   "source": []
  },
  {
   "cell_type": "markdown",
   "id": "5f1e4211",
   "metadata": {},
   "source": [
    "# Q2. __Differentiate between Abstraction and Encapsulation. Explain with an example__."
   ]
  },
  {
   "cell_type": "markdown",
   "id": "c779cc50",
   "metadata": {},
   "source": [
    "Abstraction\n",
    "Abstraction is a process of hiding unnecessary data and showing only relevant data.\n",
    "Out of an ocean of data, we are only maintaining the transparency of some data to the user. \n",
    "This important concept in object-oriented programming will reduce the complexity of the code and increases the readability.\n",
    "\n",
    "\n",
    "\n",
    "For example,\n",
    "\n",
    "let’s say we were assigned a task to create an online course enrollment portal, and the data fields available to us are\n",
    "{name, age, current occupation, college name, course name, payment method, sibling’s name, marital status, vehicle number}.\n",
    "\n",
    "After having a look at the data fields available, we’ll come to understand that some of the fields are not necessary for the course enrollment portal, fields like {sibling’s name, marital status, vehicle number} are not required for course enrollment.\n",
    "\n",
    "So, we need to be specific and choose only the relevant data. Now the necessary fields are {name, age, current occupation, college name, course name, payment method}, this makes an example of abstraction in OOP because we’ve escorted selected information from whole data.\n",
    "\n",
    "\n",
    "\n",
    "\n",
    "Abstraction:- Encapsulation works like a protective wrapper that conceals the code and data within the class. That data and code will be accessed outside the method/member function and the class that is not the members of that class.some classic methods in class like\n",
    "set and get, where the set method is used to update or allocate a value to a variable and the get method is used to read or retrieve the value of a variable.\n",
    "\n",
    "\n",
    "\n",
    "\n",
    "\n",
    "\n",
    "Abstraction is hiding the details and implementation of the code.\n",
    "Encapsulation is hiding the data and controlling the visibility of the code.\n",
    "\n",
    "\n",
    "Abstraction is a design level process and it is used to reduce the complexity at the designing stage of a project.\n",
    "Encapsulation is an implementation level process, and it is used to provide privacy and maintain control over the transparency of data at the implementation stage of a project.\n",
    "\n",
    "\n",
    "Abstraction is a process of hiding the implementation details of a system from the user, and only the functional details will be available to the user end.On the other hand,\n",
    "Encapsulation is a method of wrapping up the data and code acting on the data into a single unit.\n",
    "\n",
    "\n",
    "\n",
    "\n",
    "\n",
    "\n",
    "Abstraction Outer layout, used in terms of design\n",
    "\n",
    "For Example:-\n",
    "Outer Look of a Mobile Phone, like it has a\n",
    "display screen and keypad buttons to dial a\n",
    "num...\n",
    "\n",
    "Encapsulation Inner layout, used in\n",
    "terms of implementation.\n",
    "For Example: Inner Implementation detail of\n",
    "a Mobile Phone, how keypad button and\n",
    "Display Screen are connect with each other\n",
    "using circuit..."
   ]
  },
  {
   "cell_type": "code",
   "execution_count": null,
   "id": "700db892",
   "metadata": {},
   "outputs": [],
   "source": []
  },
  {
   "cell_type": "markdown",
   "id": "36cd8753",
   "metadata": {},
   "source": [
    "\n",
    "Q3. What is abc module in python? Why is it used?"
   ]
  },
  {
   "cell_type": "markdown",
   "id": "4eecfb45",
   "metadata": {},
   "source": [
    "Ans:--  It is a abstraction method and If you use and make as a blueprint \n",
    "    lets suppose If anyone wants to create a Data_science 'class' then whole code can be inherit and use to abc module(@abc.abstractmethod )and If you want to make a as a blueprint then I will use as a decorator @abc.abstractmethod and wherever inherit class for pwskils \n",
    "    then all methods will be available and according to your get the defn. what you have to write lets example:---------- "
   ]
  },
  {
   "cell_type": "code",
   "execution_count": 20,
   "id": "f408ae7f",
   "metadata": {},
   "outputs": [],
   "source": [
    "import abc\n",
    "\n",
    "class pwskills:\n",
    "    \n",
    "    @abc.abstractmethod\n",
    "    def student_details(self):\n",
    "        pass\n",
    "    \n",
    "    @abc.abstractmethod\n",
    "    def student_assignment(self):\n",
    "        pass\n",
    "    @abc.abstractmethod\n",
    "    def student_marks(self):\n",
    "        pass\n",
    "\n",
    "    "
   ]
  },
  {
   "cell_type": "code",
   "execution_count": 21,
   "id": "205b944a",
   "metadata": {},
   "outputs": [],
   "source": [
    "class student_details(pwskills):\n",
    "    def student_details(self):\n",
    "        return \"this is a meth for taking students details\"\n",
    "\n",
    "    def student_marks(self):\n",
    "        return \"this is a meth for assign for a particular student\""
   ]
  },
  {
   "cell_type": "code",
   "execution_count": 22,
   "id": "6ebac648",
   "metadata": {},
   "outputs": [
    {
     "data": {
      "text/plain": [
       "'this will return a student details for data science masters'"
      ]
     },
     "execution_count": 22,
     "metadata": {},
     "output_type": "execute_result"
    }
   ],
   "source": [
    "dsm = data_science_masters()\n",
    "dsm.student_details()"
   ]
  },
  {
   "cell_type": "code",
   "execution_count": null,
   "id": "00f9871f",
   "metadata": {},
   "outputs": [],
   "source": []
  },
  {
   "cell_type": "markdown",
   "id": "6251f809",
   "metadata": {},
   "source": [
    "Q4. How can we achieve data abstractionan?"
   ]
  },
  {
   "cell_type": "markdown",
   "id": "3e423f31",
   "metadata": {},
   "source": [
    "Data Abstraction in Python can be achieved through creating abstract classes and inheriting them later.\n",
    "inheritance in OOPs is a way through which one class inherits the attributes and methods of another class.\n",
    "The class whose properties and methods are inherited is known as the Parent class.\n",
    "And the class that inherits the properties from the parent class is the Child class/subclass."
   ]
  },
  {
   "cell_type": "code",
   "execution_count": null,
   "id": "45f5458e",
   "metadata": {},
   "outputs": [],
   "source": []
  },
  {
   "cell_type": "markdown",
   "id": "82b19059",
   "metadata": {},
   "source": [
    "\n",
    "Q5. Can we create an instance of an abstract class? Explain your answer\n"
   ]
  },
  {
   "cell_type": "markdown",
   "id": "c70ebfc2",
   "metadata": {},
   "source": [
    "## No,We cannot create an instance of an abstact class. An abstract class is a class that is meant to be subclasses.It serves as a blueprint or skeleton for other classes and defines common interfaces and methods that its subclasses must implement. In python we use abstract classes are created using the (abc means @abstractmethod) as a decorator on methods... "
   ]
  },
  {
   "cell_type": "code",
   "execution_count": null,
   "id": "053a2e99",
   "metadata": {},
   "outputs": [],
   "source": []
  }
 ],
 "metadata": {
  "kernelspec": {
   "display_name": "Python 3 (ipykernel)",
   "language": "python",
   "name": "python3"
  },
  "language_info": {
   "codemirror_mode": {
    "name": "ipython",
    "version": 3
   },
   "file_extension": ".py",
   "mimetype": "text/x-python",
   "name": "python",
   "nbconvert_exporter": "python",
   "pygments_lexer": "ipython3",
   "version": "3.9.12"
  }
 },
 "nbformat": 4,
 "nbformat_minor": 5
}
